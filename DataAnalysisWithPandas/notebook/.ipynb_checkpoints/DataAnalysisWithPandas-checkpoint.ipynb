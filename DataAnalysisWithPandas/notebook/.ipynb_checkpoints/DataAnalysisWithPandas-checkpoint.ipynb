{
  "cells": [
    {
      "cell_type": "code",
      "execution_count": null,
      "id": "cell-id-1",
      "metadata": {},
      "outputs": [],
      "source": [
        "# Import necessary libraries",
        "import pandas as pd",
        "import matplotlib.pyplot as plt",
        "import seaborn as sns",
        "import requests"
      ]
    },
    {
      "cell_type": "code",
      "execution_count": null,
      "id": "cell-id-2",
      "metadata": {},
      "outputs": [],
      "source": [
        "# Load and inspect CSV file",
        "csv_data = pd.read_csv('../data/sample_data.csv')",
        "print('CSV Data:')",
        "print(csv_data.head())"
      ]
    },
    {
      "cell_type": "code",
      "execution_count": null,
      "id": "cell-id-3",
      "metadata": {},
      "outputs": [],
      "source": [
        "# Load and inspect Excel file",
        "excel_data = pd.read_excel('../data/sample_data.xlsx')",
        "print('\\nExcel Data:')",
        "print(excel_data.head())"
      ]
    },
    {
      "cell_type": "code",
      "execution_count": null,
      "id": "cell-id-4",
      "metadata": {},
      "outputs": [],
      "source": [
        "# Load and inspect JSON file",
        "json_data = pd.read_json('../data/sample_data.json')",
        "print('\\nJSON Data:')",
        "print(json_data.head())"
      ]
    },
    {
      "cell_type": "code",
      "execution_count": null,
      "id": "cell-id-5",
      "metadata": {},
      "outputs": [],
      "source": [
        "# Load and inspect API response",
        "url = 'https://api.example.com/data'",
        "response = requests.get(url)",
        "api_data = response.json()",
        "api_df = pd.DataFrame(api_data)",
        "print('\\nAPI Data:')",
        "print(api_df.head())"
      ]
    },
    {
      "cell_type": "code",
      "execution_count": null,
      "id": "cell-id-6",
      "metadata": {},
      "outputs": [],
      "source": [
        "# Indexing and slicing example",
        "print('\\nSlicing CSV Data:')",
        "print(csv_data.iloc[0:5])"
      ]
    },
    {
      "cell_type": "code",
      "execution_count": null,
      "id": "cell-id-7",
      "metadata": {},
      "outputs": [],
      "source": [
        "# Deleting columns and rows",
        "csv_data = csv_data.drop('ColumnNameToDelete', axis=1)",
        "print('\\nData after deleting a column:')",
        "print(csv_data.head())"
      ]
    },
    {
      "cell_type": "code",
      "execution_count": null,
      "id": "cell-id-8",
      "metadata": {},
      "outputs": [],
      "source": [
        "# Adding a new column",
        "csv_data['NewColumn'] = [1, 2, 3, 4, 5]",
        "print('\\nData after adding a new column:')",
        "print(csv_data.head())"
      ]
    },
    {
      "cell_type": "code",
      "execution_count": null,
      "id": "cell-id-9",
      "metadata": {},
      "outputs": [],
      "source": [
        "# Visualizing the data",
        "plt.figure(figsize=(10, 6))",
        "sns.barplot(x='Column1', y='Column2', data=csv_data)",
        "plt.title('Sample Bar Plot')",
        "plt.show()"
      ]
    }
  ],
  "metadata": {},
  "nbformat": 4,
  "nbformat_minor": 5
}

