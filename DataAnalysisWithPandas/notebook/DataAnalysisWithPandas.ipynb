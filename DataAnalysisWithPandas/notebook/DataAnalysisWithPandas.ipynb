{
 "cells": [
  {
   "cell_type": "code",
   "execution_count": 11,
   "id": "47ebec6e-c970-4e3f-abc8-e0f89a3ca2a5",
   "metadata": {},
   "outputs": [],
   "source": [
    "# 🧪 Project 3 - Data Analysis with Pandas\n",
    "## 🔍 Section: Important Jupyter Notebook Commands"
   ]
  },
  {
   "cell_type": "markdown",
   "id": "29bf45d7-5aeb-4a33-ac51-009038ae3c01",
   "metadata": {},
   "source": [
    "# Define a few variables\n",
    "x = 42\n",
    "y = [1, 2, 3]\n",
    "z = \"Hello Pandas\"\n"
   ]
  },
  {
   "cell_type": "code",
   "execution_count": 46,
   "id": "ad47164e-76c9-4565-9baf-5e5afeb0a146",
   "metadata": {},
   "outputs": [
    {
     "ename": "SyntaxError",
     "evalue": "invalid syntax (557553500.py, line 1)",
     "output_type": "error",
     "traceback": [
      "\u001b[0;36m  Cell \u001b[0;32mIn[46], line 1\u001b[0;36m\u001b[0m\n\u001b[0;31m    fileexcel_data = pd.read_excel('../data/sample_data.xlsx')print('\\nExcel Data:')print(excel_data.head())\u001b[0m\n\u001b[0m                                                              ^\u001b[0m\n\u001b[0;31mSyntaxError\u001b[0m\u001b[0;31m:\u001b[0m invalid syntax\n"
     ]
    }
   ],
   "source": [
    " fileexcel_data = pd.read_excel('../data/sample_data.xlsx')print('\\nExcel Data:')print(excel_data.head())"
   ]
  },
  {
   "cell_type": "code",
   "execution_count": 13,
   "id": "9a106571-e3c5-47b3-91b6-ebb3a649546a",
   "metadata": {},
   "outputs": [
    {
     "name": "stdout",
     "output_type": "stream",
     "text": [
      "Overwriting sample_script.py\n"
     ]
    }
   ],
   "source": [
    "%%writefile sample_script.py\n",
    "print(\"This is a Python script written from Jupyter!\")\n"
   ]
  },
  {
   "cell_type": "code",
   "execution_count": 45,
   "id": "cell-id-4",
   "metadata": {},
   "outputs": [
    {
     "ename": "SyntaxError",
     "evalue": "invalid syntax (398855910.py, line 1)",
     "output_type": "error",
     "traceback": [
      "\u001b[0;36m  Cell \u001b[0;32mIn[45], line 1\u001b[0;36m\u001b[0m\n\u001b[0;31m    filejson_data = pd.read_json('../data/sample_data.json')print('\\nJSON Data:')print(json_data.head())\u001b[0m\n\u001b[0m                                                            ^\u001b[0m\n\u001b[0;31mSyntaxError\u001b[0m\u001b[0;31m:\u001b[0m invalid syntax\n"
     ]
    }
   ],
   "source": [
    "filejson_data = pd.read_json('../data/sample_data.json')print('\\nJSON Data:')print(json_data.head())"
   ]
  },
  {
   "cell_type": "code",
   "execution_count": 15,
   "id": "4a54dbc8-d03c-4fae-9717-74a3397f0617",
   "metadata": {},
   "outputs": [],
   "source": [
    "import pandas as pd"
   ]
  },
  {
   "cell_type": "code",
   "execution_count": 43,
   "id": "f7dde225-7b64-4cf7-940c-974814ff8469",
   "metadata": {},
   "outputs": [],
   "source": [
    "import pandas as pd\n",
    "df_excel.to_excel(\"../data/output_data.xlsx\", index=False)\n"
   ]
  },
  {
   "cell_type": "code",
   "execution_count": 18,
   "id": "612d5369-0a9e-463d-8888-cc6b87c6765b",
   "metadata": {},
   "outputs": [
    {
     "name": "stdout",
     "output_type": "stream",
     "text": [
      "42 [1, 2, 3] Hello Pandas\n"
     ]
    }
   ],
   "source": [
    "# 🧪 Project 3 - Data Analysis with Pandas\n",
    "# 🔍 Section: Important Jupyter Notebook Commands\n",
    "\n",
    "# Define a few variables\n",
    "x = 42\n",
    "y = [1, 2, 3]\n",
    "z = \"Hello Pandas\"\n",
    "\n",
    "print(x, y, z)\n"
   ]
  },
  {
   "cell_type": "code",
   "execution_count": 47,
   "id": "cell-id-5",
   "metadata": {},
   "outputs": [
    {
     "name": "stdout",
     "output_type": "stream",
     "text": [
      "The history saving thread hit an unexpected error (OperationalError('attempt to write a readonly database')).History will not be written to the database."
     ]
    },
    {
     "ename": "SyntaxError",
     "evalue": "invalid syntax (2437408813.py, line 1)",
     "output_type": "error",
     "traceback": [
      "\u001b[0;36m  Cell \u001b[0;32mIn[47], line 1\u001b[0;36m\u001b[0m\n\u001b[0;31m    responseurl = 'https://api.example.com/data'response = requests.get(url)api_data = response.json()api_df = pd.DataFrame(api_data)print('\\nAPI Data:')print(api_df.head())\u001b[0m\n\u001b[0m                                                ^\u001b[0m\n\u001b[0;31mSyntaxError\u001b[0m\u001b[0;31m:\u001b[0m invalid syntax\n"
     ]
    },
    {
     "name": "stdout",
     "output_type": "stream",
     "text": [
      "\n"
     ]
    }
   ],
   "source": [
    "responseurl = 'https://api.example.com/data'response = requests.get(url)api_data = response.json()api_df = pd.DataFrame(api_data)print('\\nAPI Data:')print(api_df.head())"
   ]
  },
  {
   "cell_type": "code",
   "execution_count": 24,
   "id": "eb9dae0d-310d-4e0e-a894-dfefbbaccb63",
   "metadata": {},
   "outputs": [
    {
     "name": "stdout",
     "output_type": "stream",
     "text": [
      "✅ New valid Excel file saved!\n",
      "  Product  Price  Stock\n",
      "0   Apple    120     50\n",
      "1  Banana     40    100\n",
      "2  Carrot     60     80\n"
     ]
    }
   ],
   "source": [
    "import pandas as pd\n",
    "\n",
    "# Sample data\n",
    "data = {\n",
    "    \"Product\": [\"Apple\", \"Banana\", \"Carrot\"],\n",
    "    \"Price\": [120, 40, 60],\n",
    "    \"Stock\": [50, 100, 80]\n",
    "}\n",
    "\n",
    "# Create DataFrame\n",
    "df = pd.DataFrame(data)\n",
    "\n",
    "# Save as proper Excel file\n",
    "df.to_excel(\"../data/sample_data.xlsx\", index=False, engine=\"openpyxl\")\n",
    "\n",
    "print(\"✅ New valid Excel file saved!\")\n",
    "df_excel = pd.read_excel(\"../data/sample_data.xlsx\", engine=\"openpyxl\")\n",
    "print(df_excel.head())"
   ]
  },
  {
   "cell_type": "code",
   "execution_count": 54,
   "id": "cell-id-6",
   "metadata": {},
   "outputs": [
    {
     "ename": "NameError",
     "evalue": "name 'csv_data' is not defined",
     "output_type": "error",
     "traceback": [
      "\u001b[0;31m---------------------------------------------------------------------------\u001b[0m",
      "\u001b[0;31mNameError\u001b[0m                                 Traceback (most recent call last)",
      "Cell \u001b[0;32mIn[54], line 1\u001b[0m\n\u001b[0;32m----> 1\u001b[0m \u001b[38;5;28mprint\u001b[39m(\u001b[43mcsv_data\u001b[49m\u001b[38;5;241m.\u001b[39miloc[\u001b[38;5;241m0\u001b[39m:\u001b[38;5;241m5\u001b[39m])\n",
      "\u001b[0;31mNameError\u001b[0m: name 'csv_data' is not defined"
     ]
    }
   ],
   "source": [
    "print(csv_data.iloc[0:5])"
   ]
  },
  {
   "cell_type": "markdown",
   "id": "f91a9ce6-7892-4ed6-9ceb-1f91bf478eb2",
   "metadata": {},
   "source": [
    "import pandas as pd\n",
    "\n",
    "# Sample data\n",
    "data = {\n",
    "    \"Name\": [\"Alice\", \"Bob\", \"Charlie\"],\n",
    "    \"Age\": [25, 30, 35],\n",
    "    \"City\": [\"New York\", \"Paris\", \"Tokyo\"]\n",
    "}\n",
    "\n",
    "# Create DataFrame and save as CSV\n",
    "df_csv = pd.DataFrame(data)\n",
    "df_csv.to_csv(\"../data/sample_data.csv\", index=False)\n",
    "\n",
    "print(\"✅ CSV file created successfully!\")\n",
    "df_loaded = pd.read_csv(\"../data/sample_data.csv\")\n",
    "print(\"📄 Loaded CSV Data:\")\n",
    "print(df_loaded)\n"
   ]
  },
  {
   "cell_type": "code",
   "execution_count": null,
   "id": "931c2457-8315-49af-8a04-91b788abebd5",
   "metadata": {},
   "outputs": [],
   "source": []
  },
  {
   "cell_type": "code",
   "execution_count": 5,
   "id": "cell-id-7",
   "metadata": {},
   "outputs": [],
   "source": [
    "# Deleting columns and rowscsv_data = csv_data.drop('ColumnNameToDelete', axis=1)print('\\nData after deleting a column:')print(csv_data.head())"
   ]
  },
  {
   "cell_type": "code",
   "execution_count": 28,
   "id": "95fcba97-dc4f-414b-b26c-d5f1f517d2ba",
   "metadata": {},
   "outputs": [
    {
     "name": "stdout",
     "output_type": "stream",
     "text": [
      "Overwriting ../data/sample_data.txt\n"
     ]
    }
   ],
   "source": [
    "%%writefile ../data/sample_data.txt\n",
    "Name, Age, City\n",
    "Alice, 25, New York\n",
    "Bob, 30, Paris\n",
    "Charlie, 35, Tokyo"
   ]
  },
  {
   "cell_type": "code",
   "execution_count": 30,
   "id": "955bcf1a-9353-4708-8d0c-466f7e690574",
   "metadata": {},
   "outputs": [
    {
     "name": "stdout",
     "output_type": "stream",
     "text": [
      "📄 TXT File Content:\n",
      "Name, Age, City\n",
      "Alice, 25, New York\n",
      "Bob, 30, Paris\n",
      "Charlie, 35, Tokyo\n",
      "# Open and read plain text\n",
      "with open('../data/sample_data.txt', 'r') as file:\n",
      "    content = file.read()\n",
      "\n",
      "print(\"📄 TXT File Content:\")\n",
      "print(content)\n",
      "\n",
      "📊 TXT File Loaded as DataFrame:\n",
      "                                  Name             Age       City\n",
      "0                                Alice              25   New York\n",
      "1                                  Bob              30      Paris\n",
      "2                              Charlie              35      Tokyo\n",
      "3           # Open and read plain text             NaN        NaN\n",
      "4  with open('../data/sample_data.txt'   'r') as file:        NaN\n",
      "5                content = file.read()             NaN        NaN\n",
      "6         print(\"📄 TXT File Content:\")             NaN        NaN\n",
      "7                       print(content)             NaN        NaN\n"
     ]
    }
   ],
   "source": [
    "# Open and read plain text\n",
    "with open('../data/sample_data.txt', 'r') as file:\n",
    "    content = file.read()\n",
    "\n",
    "print(\"📄 TXT File Content:\")\n",
    "print(content)\n",
    "df_txt = pd.read_csv('../data/sample_data.txt')\n",
    "print(\"📊 TXT File Loaded as DataFrame:\")\n",
    "print(df_txt)\n"
   ]
  },
  {
   "cell_type": "code",
   "execution_count": 6,
   "id": "cell-id-2",
   "metadata": {},
   "outputs": [],
   "source": [
    "# Load and inspect CSV filecsv_data = pd.read_csv('../data/sample_data.csv')print('CSV Data:')print(csv_data.head())"
   ]
  },
  {
   "cell_type": "code",
   "execution_count": 31,
   "id": "bd9d373e-1858-42ea-91e6-f98644603786",
   "metadata": {},
   "outputs": [
    {
     "name": "stdout",
     "output_type": "stream",
     "text": [
      "Overwriting ../data/sample_data.json\n"
     ]
    }
   ],
   "source": [
    "%%writefile ../data/sample_data.json\n",
    "[\n",
    "  {\"name\": \"Alice\", \"age\": 25, \"city\": \"New York\"},\n",
    "  {\"name\": \"Bob\", \"age\": 30, \"city\": \"Paris\"},\n",
    "  {\"name\": \"Charlie\", \"age\": 35, \"city\": \"Tokyo\"}\n",
    "]\n"
   ]
  },
  {
   "cell_type": "code",
   "execution_count": 7,
   "id": "cell-id-8",
   "metadata": {},
   "outputs": [],
   "source": [
    "# Adding a new columncsv_data['NewColumn'] = [1, 2, 3, 4, 5]print('\\nData after adding a new column:')print(csv_data.head())"
   ]
  },
  {
   "cell_type": "code",
   "execution_count": 32,
   "id": "42aa027e-0d70-4192-806c-8e9cd21d820d",
   "metadata": {},
   "outputs": [
    {
     "name": "stdout",
     "output_type": "stream",
     "text": [
      "📘 JSON DataFrame:\n",
      "      name  age      city\n",
      "0    Alice   25  New York\n",
      "1      Bob   30     Paris\n",
      "2  Charlie   35     Tokyo\n"
     ]
    }
   ],
   "source": [
    "import pandas as pd\n",
    "\n",
    "# Read the JSON file into a DataFrame\n",
    "df_json = pd.read_json('../data/sample_data.json')\n",
    "\n",
    "print(\"📘 JSON DataFrame:\")\n",
    "print(df_json)\n"
   ]
  },
  {
   "cell_type": "code",
   "execution_count": 8,
   "id": "cell-id-9",
   "metadata": {},
   "outputs": [],
   "source": [
    "# Visualizing the dataplt.figure(figsize=(10, 6))sns.barplot(x='Column1', y='Column2', data=csv_data)plt.title('Sample Bar Plot')plt.show()"
   ]
  },
  {
   "cell_type": "code",
   "execution_count": 34,
   "id": "8094c92e-7d3d-4927-999e-9956873ad50e",
   "metadata": {},
   "outputs": [
    {
     "name": "stdout",
     "output_type": "stream",
     "text": [
      "🧑 First user:\n",
      "{'id': 1, 'name': 'Leanne Graham', 'username': 'Bret', 'email': 'Sincere@april.biz', 'address': {'street': 'Kulas Light', 'suite': 'Apt. 556', 'city': 'Gwenborough', 'zipcode': '92998-3874', 'geo': {'lat': '-37.3159', 'lng': '81.1496'}}, 'phone': '1-770-736-8031 x56442', 'website': 'hildegard.org', 'company': {'name': 'Romaguera-Crona', 'catchPhrase': 'Multi-layered client-server neural-net', 'bs': 'harness real-time e-markets'}}\n"
     ]
    }
   ],
   "source": [
    "import requests\n",
    "# Fetch a list of users from the fake API\n",
    "response = requests.get(\"https://jsonplaceholder.typicode.com/users\")\n",
    "\n",
    "# Convert the response JSON into Python data\n",
    "users = response.json()\n",
    "\n",
    "# Show first user\n",
    "print(\"🧑 First user:\")\n",
    "print(users[0])\n"
   ]
  },
  {
   "cell_type": "code",
   "execution_count": 35,
   "id": "0ae9a9d0-a092-49ac-82fc-28788eaa2dc3",
   "metadata": {},
   "outputs": [
    {
     "name": "stdout",
     "output_type": "stream",
     "text": [
      "📋 Users DataFrame:\n",
      "   id                      name                      email  \\\n",
      "0   1             Leanne Graham          Sincere@april.biz   \n",
      "1   2              Ervin Howell          Shanna@melissa.tv   \n",
      "2   3          Clementine Bauch         Nathan@yesenia.net   \n",
      "3   4          Patricia Lebsack  Julianne.OConner@kory.org   \n",
      "4   5          Chelsey Dietrich   Lucio_Hettinger@annie.ca   \n",
      "5   6      Mrs. Dennis Schulist    Karley_Dach@jasper.info   \n",
      "6   7           Kurtis Weissnat     Telly.Hoeger@billy.biz   \n",
      "7   8  Nicholas Runolfsdottir V       Sherwood@rosamond.me   \n",
      "8   9           Glenna Reichert    Chaim_McDermott@dana.io   \n",
      "9  10        Clementina DuBuque     Rey.Padberg@karina.biz   \n",
      "\n",
      "                                             company  \n",
      "0  {'name': 'Romaguera-Crona', 'catchPhrase': 'Mu...  \n",
      "1  {'name': 'Deckow-Crist', 'catchPhrase': 'Proac...  \n",
      "2  {'name': 'Romaguera-Jacobson', 'catchPhrase': ...  \n",
      "3  {'name': 'Robel-Corkery', 'catchPhrase': 'Mult...  \n",
      "4  {'name': 'Keebler LLC', 'catchPhrase': 'User-c...  \n",
      "5  {'name': 'Considine-Lockman', 'catchPhrase': '...  \n",
      "6  {'name': 'Johns Group', 'catchPhrase': 'Config...  \n",
      "7  {'name': 'Abernathy Group', 'catchPhrase': 'Im...  \n",
      "8  {'name': 'Yost and Sons', 'catchPhrase': 'Swit...  \n",
      "9  {'name': 'Hoeger LLC', 'catchPhrase': 'Central...  \n"
     ]
    }
   ],
   "source": [
    "import pandas as pd\n",
    "\n",
    "# Convert entire JSON response to a DataFrame\n",
    "df_users = pd.DataFrame(users)\n",
    "\n",
    "print(\"📋 Users DataFrame:\")\n",
    "print(df_users[['id', 'name', 'email', 'company']])\n"
   ]
  },
  {
   "cell_type": "code",
   "execution_count": 36,
   "id": "0f8cc60a-c3d1-4565-9539-f2f15411fbfd",
   "metadata": {},
   "outputs": [
    {
     "name": "stdout",
     "output_type": "stream",
     "text": [
      "🏢 Company Names:\n",
      "                       name        company_name\n",
      "0             Leanne Graham     Romaguera-Crona\n",
      "1              Ervin Howell        Deckow-Crist\n",
      "2          Clementine Bauch  Romaguera-Jacobson\n",
      "3          Patricia Lebsack       Robel-Corkery\n",
      "4          Chelsey Dietrich         Keebler LLC\n",
      "5      Mrs. Dennis Schulist   Considine-Lockman\n",
      "6           Kurtis Weissnat         Johns Group\n",
      "7  Nicholas Runolfsdottir V     Abernathy Group\n",
      "8           Glenna Reichert       Yost and Sons\n",
      "9        Clementina DuBuque          Hoeger LLC\n"
     ]
    }
   ],
   "source": [
    "# Extract company names\n",
    "df_users['company_name'] = df_users['company'].apply(lambda x: x['name'])\n",
    "\n",
    "print(\"🏢 Company Names:\")\n",
    "print(df_users[['name', 'company_name']])\n"
   ]
  },
  {
   "cell_type": "code",
   "execution_count": 41,
   "id": "efc160a5-9dad-41af-b7eb-f869b3b34d4a",
   "metadata": {},
   "outputs": [],
   "source": [
    "new_post = {\n",
    "    \"userId\": 1,\n",
    "    \"title\": \"PHYTEC is awesome!\",\n",
    "    \"body\": \"Just posted this from Python using requests 🚀\"\n",
    "}\n"
   ]
  },
  {
   "cell_type": "code",
   "execution_count": 42,
   "id": "854887f7-1a05-4c71-8849-d4fc60d2ef48",
   "metadata": {},
   "outputs": [
    {
     "name": "stdout",
     "output_type": "stream",
     "text": [
      "✅ Status Code: 201\n",
      "📬 Response JSON:\n",
      "{'userId': 1, 'title': 'PHYTEC is awesome!', 'body': 'Just posted this from Python using requests 🚀', 'id': 101}\n"
     ]
    }
   ],
   "source": [
    "response = requests.post(\"https://jsonplaceholder.typicode.com/posts\", json=new_post)\n",
    "\n",
    "# Check if it was successful\n",
    "print(\"✅ Status Code:\", response.status_code)\n",
    "\n",
    "# Response from server\n",
    "print(\"📬 Response JSON:\")\n",
    "print(response.json())\n"
   ]
  },
  {
   "cell_type": "code",
   "execution_count": 58,
   "id": "171007a3-2371-4223-900c-9a0735e27c7b",
   "metadata": {},
   "outputs": [
    {
     "name": "stdout",
     "output_type": "stream",
     "text": [
      "      Name  Age         City\n",
      "0    Alice   24     New York\n",
      "1      Bob   27  Los Angeles\n",
      "2  Charlie   22      Chicago\n",
      "3    David   32      Houston\n",
      "4      Eva   29      Phoenix\n",
      "0      Alice\n",
      "1        Bob\n",
      "2    Charlie\n",
      "3      David\n",
      "4        Eva\n",
      "Name: Name, dtype: object\n",
      "Name       Alice\n",
      "Age           24\n",
      "City    New York\n",
      "Name: 0, dtype: object\n",
      "      Name  Age         City\n",
      "0    Alice   24     New York\n",
      "1      Bob   27  Los Angeles\n",
      "2  Charlie   22      Chicago\n",
      "Bob\n",
      "      Name         City\n",
      "1      Bob  Los Angeles\n",
      "2  Charlie      Chicago\n",
      "3    David      Houston\n",
      "    Name  Age         City\n",
      "1    Bob   27  Los Angeles\n",
      "3  David   32      Houston\n",
      "4    Eva   29      Phoenix\n"
     ]
    }
   ],
   "source": [
    "import pandas as pd\n",
    "\n",
    "data = {\n",
    "    'Name': ['Alice', 'Bob', 'Charlie', 'David', 'Eva'],\n",
    "    'Age': [24, 27, 22, 32, 29],\n",
    "    'City': ['New York', 'Los Angeles', 'Chicago', 'Houston', 'Phoenix']\n",
    "}\n",
    "\n",
    "df = pd.DataFrame(data)\n",
    "print(df)\n",
    "# Get the 'Name' column\n",
    "print(df['Name'])\n",
    "# Get the first row\n",
    "print(df.iloc[0])\n",
    "\n",
    "# Get first 3 rows\n",
    "print(df.iloc[0:3])\n",
    "# Get the Name of the second person\n",
    "print(df.iloc[1, 0])  # Row 1, Column 0\n",
    "\n",
    "# Get rows 1 to 3 and only the 'Name' and 'City' columns\n",
    "print(df.loc[1:3, ['Name', 'City']])\n",
    "# All people older than 25\n",
    "print(df[df['Age'] > 25])\n"
   ]
  },
  {
   "cell_type": "code",
   "execution_count": 59,
   "id": "5d952235-0682-47a2-924b-593a2701d500",
   "metadata": {},
   "outputs": [
    {
     "name": "stdout",
     "output_type": "stream",
     "text": [
      "      Name  Age         City\n",
      "0    Alice   24     New York\n",
      "1      Bob   27  Los Angeles\n",
      "2  Charlie   22      Chicago\n",
      "3    David   32      Houston\n",
      "4      Eva   29      Phoenix\n"
     ]
    }
   ],
   "source": [
    "import pandas as pd\n",
    "\n",
    "data = {\n",
    "    'Name': ['Alice', 'Bob', 'Charlie', 'David', 'Eva'],\n",
    "    'Age': [24, 27, 22, 32, 29],\n",
    "    'City': ['New York', 'Los Angeles', 'Chicago', 'Houston', 'Phoenix']\n",
    "}\n",
    "\n",
    "df = pd.DataFrame(data)\n",
    "print(df)\n"
   ]
  },
  {
   "cell_type": "code",
   "execution_count": 60,
   "id": "a0be101c-e7cb-476d-97b9-22ae756bbbb5",
   "metadata": {},
   "outputs": [
    {
     "name": "stdout",
     "output_type": "stream",
     "text": [
      "      Name  Age\n",
      "0    Alice   24\n",
      "1      Bob   27\n",
      "2  Charlie   22\n",
      "3    David   32\n",
      "4      Eva   29\n"
     ]
    }
   ],
   "source": [
    "# Drop the 'City' column (returns a new DataFrame)\n",
    "df_without_city = df.drop('City', axis=1)\n",
    "print(df_without_city)\n"
   ]
  },
  {
   "cell_type": "code",
   "execution_count": 61,
   "id": "0897e863-06c5-48ec-81df-30c76cc52743",
   "metadata": {},
   "outputs": [
    {
     "name": "stdout",
     "output_type": "stream",
     "text": [
      "      Name\n",
      "0    Alice\n",
      "1      Bob\n",
      "2  Charlie\n",
      "3    David\n",
      "4      Eva\n"
     ]
    }
   ],
   "source": [
    "df_without_columns = df.drop(['Age', 'City'], axis=1)\n",
    "print(df_without_columns)\n"
   ]
  },
  {
   "cell_type": "code",
   "execution_count": 62,
   "id": "87cbef5f-2900-436a-94aa-013f4a7bfc05",
   "metadata": {},
   "outputs": [
    {
     "name": "stdout",
     "output_type": "stream",
     "text": [
      "      Name  Age\n",
      "0    Alice   24\n",
      "1      Bob   27\n",
      "2  Charlie   22\n",
      "3    David   32\n",
      "4      Eva   29\n"
     ]
    }
   ],
   "source": [
    "df.drop('City', axis=1, inplace=True)\n",
    "print(df)\n"
   ]
  },
  {
   "cell_type": "code",
   "execution_count": 63,
   "id": "1b4cce5a-0794-4ea6-bd18-371b93888d71",
   "metadata": {},
   "outputs": [
    {
     "name": "stdout",
     "output_type": "stream",
     "text": [
      "    Name  Age\n",
      "0  Alice   24\n",
      "1    Bob   27\n",
      "3  David   32\n",
      "4    Eva   29\n"
     ]
    }
   ],
   "source": [
    "# Drop row with index 2 (Charlie)\n",
    "df_without_row = df.drop(2)\n",
    "print(df_without_row)\n"
   ]
  },
  {
   "cell_type": "code",
   "execution_count": 64,
   "id": "f4221a9d-e9e7-41fa-ae43-aed19c55a6ec",
   "metadata": {},
   "outputs": [
    {
     "name": "stdout",
     "output_type": "stream",
     "text": [
      "      Name  Age\n",
      "1      Bob   27\n",
      "2  Charlie   22\n",
      "4      Eva   29\n"
     ]
    }
   ],
   "source": [
    "df.drop([0, 3], inplace=True)  # Alice and David gone\n",
    "print(df)\n"
   ]
  },
  {
   "cell_type": "code",
   "execution_count": 65,
   "id": "e0a4ddde-f3ab-4139-88d4-3935d73b345a",
   "metadata": {},
   "outputs": [
    {
     "name": "stdout",
     "output_type": "stream",
     "text": [
      "      Name  Age Country\n",
      "1      Bob   27     USA\n",
      "2  Charlie   22     USA\n",
      "4      Eva   29     USA\n"
     ]
    }
   ],
   "source": [
    "df['Country'] = 'USA'\n",
    "print(df)\n"
   ]
  },
  {
   "cell_type": "code",
   "execution_count": 66,
   "id": "3d64f8d9-8915-4d7c-a03d-64a9d20ac718",
   "metadata": {},
   "outputs": [
    {
     "name": "stdout",
     "output_type": "stream",
     "text": [
      "      Name  Age Country AgeGroup\n",
      "1      Bob   27     USA    Young\n",
      "2  Charlie   22     USA    Young\n",
      "4      Eva   29     USA    Young\n"
     ]
    }
   ],
   "source": [
    "# Age group based on age\n",
    "df['AgeGroup'] = df['Age'].apply(lambda x: 'Young' if x < 30 else 'Adult')\n",
    "print(df)\n"
   ]
  },
  {
   "cell_type": "code",
   "execution_count": 67,
   "id": "f175db3a-cf3d-41b4-81ed-f8330f2184db",
   "metadata": {},
   "outputs": [
    {
     "name": "stdout",
     "output_type": "stream",
     "text": [
      "      Name  Age Country AgeGroup\n",
      "1      Bob   28     USA    Young\n",
      "2  Charlie   23     USA    Young\n",
      "4      Eva   30     USA    Young\n"
     ]
    }
   ],
   "source": [
    "# Increase everyone's age by 1\n",
    "df['Age'] = df['Age'] + 1\n",
    "print(df)\n"
   ]
  },
  {
   "cell_type": "code",
   "execution_count": 68,
   "id": "67464133-4386-4623-8c3b-376fd5aaca84",
   "metadata": {},
   "outputs": [
    {
     "name": "stdout",
     "output_type": "stream",
     "text": [
      "      Name  Age Country AgeGroup           City\n",
      "1      Bob   28     USA    Young  San Francisco\n",
      "2  Charlie   23     USA    Young            NaN\n",
      "4      Eva   30     USA    Young            NaN\n"
     ]
    }
   ],
   "source": [
    "# Update Bob's city\n",
    "df.loc[df['Name'] == 'Bob', 'City'] = 'San Francisco'\n",
    "print(df)\n"
   ]
  },
  {
   "cell_type": "code",
   "execution_count": 69,
   "id": "c74c91b5-bc86-4ced-91de-20d835a79cf3",
   "metadata": {},
   "outputs": [
    {
     "name": "stdout",
     "output_type": "stream",
     "text": [
      "      Name  Age Country AgeGroup           City\n",
      "0      Bob   28     USA    Young  San Francisco\n",
      "1  Charlie   23     USA    Young            NaN\n",
      "2      Eva   30     USA    Young            NaN\n",
      "3    Frank   26     USA    Young         Boston\n"
     ]
    }
   ],
   "source": [
    "new_row = {'Name': 'Frank', 'Age': 26, 'City': 'Boston', 'Country': 'USA', 'AgeGroup': 'Young'}\n",
    "df = pd.concat([df, pd.DataFrame([new_row])], ignore_index=True)\n",
    "print(df)\n"
   ]
  },
  {
   "cell_type": "code",
   "execution_count": 70,
   "id": "d374ac41-34f6-4cdb-b4da-ec11a945786c",
   "metadata": {},
   "outputs": [
    {
     "name": "stdout",
     "output_type": "stream",
     "text": [
      "    Name  Age  Country AgeGroup           City\n",
      "0    Bob   28      USA    Young  San Francisco\n",
      "1  Bobby   28  Seattle      USA          Young\n",
      "2    Eva   30      USA    Young            NaN\n",
      "3  Frank   26      USA    Young         Boston\n"
     ]
    }
   ],
   "source": [
    "# Update row at index 1\n",
    "df.loc[1] = ['Bobby', 28, 'Seattle', 'USA', 'Young']\n",
    "print(df)\n"
   ]
  },
  {
   "cell_type": "code",
   "execution_count": 71,
   "id": "2519a1ce-8f7a-45bd-a29f-a3680b9a7890",
   "metadata": {},
   "outputs": [
    {
     "name": "stdout",
     "output_type": "stream",
     "text": [
      "    Name  Age  Country AgeGroup           City\n",
      "0    Bob   28      USA    Young  San Francisco\n",
      "1  Bobby   28  Seattle      USA          Young\n",
      "2    Eva   30      USA    Young            NaN\n",
      "3  Frank   26      USA    Young         Boston\n"
     ]
    }
   ],
   "source": [
    "# Update row at index 1\n",
    "df.loc[1] = ['Bobby', 28, 'Seattle', 'USA', 'Young']\n",
    "print(df)\n"
   ]
  },
  {
   "cell_type": "code",
   "execution_count": 72,
   "id": "5572f189-d9bb-4af7-a115-5ab17029f096",
   "metadata": {},
   "outputs": [
    {
     "name": "stdout",
     "output_type": "stream",
     "text": [
      "      Name  Age         City\n",
      "0    Alice   25     New York\n",
      "1      Bob   30  Los Angeles\n",
      "2  Charlie   35      Chicago\n",
      "99.6 µs ± 2.07 µs per loop (mean ± std. dev. of 7 runs, 10,000 loops each)\n"
     ]
    },
    {
     "ename": "FileNotFoundError",
     "evalue": "[Errno 2] No such file or directory: 'data.csv'",
     "output_type": "error",
     "traceback": [
      "\u001b[0;31m---------------------------------------------------------------------------\u001b[0m",
      "\u001b[0;31mFileNotFoundError\u001b[0m                         Traceback (most recent call last)",
      "Cell \u001b[0;32mIn[72], line 12\u001b[0m\n\u001b[1;32m     10\u001b[0m get_ipython()\u001b[38;5;241m.\u001b[39mrun_line_magic(\u001b[38;5;124m'\u001b[39m\u001b[38;5;124mpinfo\u001b[39m\u001b[38;5;124m'\u001b[39m, \u001b[38;5;124m'\u001b[39m\u001b[38;5;124mpd.DataFrame\u001b[39m\u001b[38;5;124m'\u001b[39m)\n\u001b[1;32m     11\u001b[0m get_ipython()\u001b[38;5;241m.\u001b[39mrun_line_magic(\u001b[38;5;124m'\u001b[39m\u001b[38;5;124mtimeit\u001b[39m\u001b[38;5;124m'\u001b[39m, \u001b[38;5;124m\"\u001b[39m\u001b[38;5;124mdf[\u001b[39m\u001b[38;5;124m'\u001b[39m\u001b[38;5;124mAge\u001b[39m\u001b[38;5;124m'\u001b[39m\u001b[38;5;124m].mean()\u001b[39m\u001b[38;5;124m\"\u001b[39m)\n\u001b[0;32m---> 12\u001b[0m df \u001b[38;5;241m=\u001b[39m \u001b[43mpd\u001b[49m\u001b[38;5;241;43m.\u001b[39;49m\u001b[43mread_csv\u001b[49m\u001b[43m(\u001b[49m\u001b[38;5;124;43m'\u001b[39;49m\u001b[38;5;124;43mdata.csv\u001b[39;49m\u001b[38;5;124;43m'\u001b[39;49m\u001b[43m)\u001b[49m\n\u001b[1;32m     13\u001b[0m \u001b[38;5;28mprint\u001b[39m(df\u001b[38;5;241m.\u001b[39mhead())\n",
      "File \u001b[0;32m~/.local/lib/python3.8/site-packages/pandas/io/parsers/readers.py:912\u001b[0m, in \u001b[0;36mread_csv\u001b[0;34m(filepath_or_buffer, sep, delimiter, header, names, index_col, usecols, dtype, engine, converters, true_values, false_values, skipinitialspace, skiprows, skipfooter, nrows, na_values, keep_default_na, na_filter, verbose, skip_blank_lines, parse_dates, infer_datetime_format, keep_date_col, date_parser, date_format, dayfirst, cache_dates, iterator, chunksize, compression, thousands, decimal, lineterminator, quotechar, quoting, doublequote, escapechar, comment, encoding, encoding_errors, dialect, on_bad_lines, delim_whitespace, low_memory, memory_map, float_precision, storage_options, dtype_backend)\u001b[0m\n\u001b[1;32m    899\u001b[0m kwds_defaults \u001b[38;5;241m=\u001b[39m _refine_defaults_read(\n\u001b[1;32m    900\u001b[0m     dialect,\n\u001b[1;32m    901\u001b[0m     delimiter,\n\u001b[0;32m   (...)\u001b[0m\n\u001b[1;32m    908\u001b[0m     dtype_backend\u001b[38;5;241m=\u001b[39mdtype_backend,\n\u001b[1;32m    909\u001b[0m )\n\u001b[1;32m    910\u001b[0m kwds\u001b[38;5;241m.\u001b[39mupdate(kwds_defaults)\n\u001b[0;32m--> 912\u001b[0m \u001b[38;5;28;01mreturn\u001b[39;00m \u001b[43m_read\u001b[49m\u001b[43m(\u001b[49m\u001b[43mfilepath_or_buffer\u001b[49m\u001b[43m,\u001b[49m\u001b[43m \u001b[49m\u001b[43mkwds\u001b[49m\u001b[43m)\u001b[49m\n",
      "File \u001b[0;32m~/.local/lib/python3.8/site-packages/pandas/io/parsers/readers.py:577\u001b[0m, in \u001b[0;36m_read\u001b[0;34m(filepath_or_buffer, kwds)\u001b[0m\n\u001b[1;32m    574\u001b[0m _validate_names(kwds\u001b[38;5;241m.\u001b[39mget(\u001b[38;5;124m\"\u001b[39m\u001b[38;5;124mnames\u001b[39m\u001b[38;5;124m\"\u001b[39m, \u001b[38;5;28;01mNone\u001b[39;00m))\n\u001b[1;32m    576\u001b[0m \u001b[38;5;66;03m# Create the parser.\u001b[39;00m\n\u001b[0;32m--> 577\u001b[0m parser \u001b[38;5;241m=\u001b[39m \u001b[43mTextFileReader\u001b[49m\u001b[43m(\u001b[49m\u001b[43mfilepath_or_buffer\u001b[49m\u001b[43m,\u001b[49m\u001b[43m \u001b[49m\u001b[38;5;241;43m*\u001b[39;49m\u001b[38;5;241;43m*\u001b[39;49m\u001b[43mkwds\u001b[49m\u001b[43m)\u001b[49m\n\u001b[1;32m    579\u001b[0m \u001b[38;5;28;01mif\u001b[39;00m chunksize \u001b[38;5;129;01mor\u001b[39;00m iterator:\n\u001b[1;32m    580\u001b[0m     \u001b[38;5;28;01mreturn\u001b[39;00m parser\n",
      "File \u001b[0;32m~/.local/lib/python3.8/site-packages/pandas/io/parsers/readers.py:1407\u001b[0m, in \u001b[0;36mTextFileReader.__init__\u001b[0;34m(self, f, engine, **kwds)\u001b[0m\n\u001b[1;32m   1404\u001b[0m     \u001b[38;5;28mself\u001b[39m\u001b[38;5;241m.\u001b[39moptions[\u001b[38;5;124m\"\u001b[39m\u001b[38;5;124mhas_index_names\u001b[39m\u001b[38;5;124m\"\u001b[39m] \u001b[38;5;241m=\u001b[39m kwds[\u001b[38;5;124m\"\u001b[39m\u001b[38;5;124mhas_index_names\u001b[39m\u001b[38;5;124m\"\u001b[39m]\n\u001b[1;32m   1406\u001b[0m \u001b[38;5;28mself\u001b[39m\u001b[38;5;241m.\u001b[39mhandles: IOHandles \u001b[38;5;241m|\u001b[39m \u001b[38;5;28;01mNone\u001b[39;00m \u001b[38;5;241m=\u001b[39m \u001b[38;5;28;01mNone\u001b[39;00m\n\u001b[0;32m-> 1407\u001b[0m \u001b[38;5;28mself\u001b[39m\u001b[38;5;241m.\u001b[39m_engine \u001b[38;5;241m=\u001b[39m \u001b[38;5;28;43mself\u001b[39;49m\u001b[38;5;241;43m.\u001b[39;49m\u001b[43m_make_engine\u001b[49m\u001b[43m(\u001b[49m\u001b[43mf\u001b[49m\u001b[43m,\u001b[49m\u001b[43m \u001b[49m\u001b[38;5;28;43mself\u001b[39;49m\u001b[38;5;241;43m.\u001b[39;49m\u001b[43mengine\u001b[49m\u001b[43m)\u001b[49m\n",
      "File \u001b[0;32m~/.local/lib/python3.8/site-packages/pandas/io/parsers/readers.py:1661\u001b[0m, in \u001b[0;36mTextFileReader._make_engine\u001b[0;34m(self, f, engine)\u001b[0m\n\u001b[1;32m   1659\u001b[0m     \u001b[38;5;28;01mif\u001b[39;00m \u001b[38;5;124m\"\u001b[39m\u001b[38;5;124mb\u001b[39m\u001b[38;5;124m\"\u001b[39m \u001b[38;5;129;01mnot\u001b[39;00m \u001b[38;5;129;01min\u001b[39;00m mode:\n\u001b[1;32m   1660\u001b[0m         mode \u001b[38;5;241m+\u001b[39m\u001b[38;5;241m=\u001b[39m \u001b[38;5;124m\"\u001b[39m\u001b[38;5;124mb\u001b[39m\u001b[38;5;124m\"\u001b[39m\n\u001b[0;32m-> 1661\u001b[0m \u001b[38;5;28mself\u001b[39m\u001b[38;5;241m.\u001b[39mhandles \u001b[38;5;241m=\u001b[39m \u001b[43mget_handle\u001b[49m\u001b[43m(\u001b[49m\n\u001b[1;32m   1662\u001b[0m \u001b[43m    \u001b[49m\u001b[43mf\u001b[49m\u001b[43m,\u001b[49m\n\u001b[1;32m   1663\u001b[0m \u001b[43m    \u001b[49m\u001b[43mmode\u001b[49m\u001b[43m,\u001b[49m\n\u001b[1;32m   1664\u001b[0m \u001b[43m    \u001b[49m\u001b[43mencoding\u001b[49m\u001b[38;5;241;43m=\u001b[39;49m\u001b[38;5;28;43mself\u001b[39;49m\u001b[38;5;241;43m.\u001b[39;49m\u001b[43moptions\u001b[49m\u001b[38;5;241;43m.\u001b[39;49m\u001b[43mget\u001b[49m\u001b[43m(\u001b[49m\u001b[38;5;124;43m\"\u001b[39;49m\u001b[38;5;124;43mencoding\u001b[39;49m\u001b[38;5;124;43m\"\u001b[39;49m\u001b[43m,\u001b[49m\u001b[43m \u001b[49m\u001b[38;5;28;43;01mNone\u001b[39;49;00m\u001b[43m)\u001b[49m\u001b[43m,\u001b[49m\n\u001b[1;32m   1665\u001b[0m \u001b[43m    \u001b[49m\u001b[43mcompression\u001b[49m\u001b[38;5;241;43m=\u001b[39;49m\u001b[38;5;28;43mself\u001b[39;49m\u001b[38;5;241;43m.\u001b[39;49m\u001b[43moptions\u001b[49m\u001b[38;5;241;43m.\u001b[39;49m\u001b[43mget\u001b[49m\u001b[43m(\u001b[49m\u001b[38;5;124;43m\"\u001b[39;49m\u001b[38;5;124;43mcompression\u001b[39;49m\u001b[38;5;124;43m\"\u001b[39;49m\u001b[43m,\u001b[49m\u001b[43m \u001b[49m\u001b[38;5;28;43;01mNone\u001b[39;49;00m\u001b[43m)\u001b[49m\u001b[43m,\u001b[49m\n\u001b[1;32m   1666\u001b[0m \u001b[43m    \u001b[49m\u001b[43mmemory_map\u001b[49m\u001b[38;5;241;43m=\u001b[39;49m\u001b[38;5;28;43mself\u001b[39;49m\u001b[38;5;241;43m.\u001b[39;49m\u001b[43moptions\u001b[49m\u001b[38;5;241;43m.\u001b[39;49m\u001b[43mget\u001b[49m\u001b[43m(\u001b[49m\u001b[38;5;124;43m\"\u001b[39;49m\u001b[38;5;124;43mmemory_map\u001b[39;49m\u001b[38;5;124;43m\"\u001b[39;49m\u001b[43m,\u001b[49m\u001b[43m \u001b[49m\u001b[38;5;28;43;01mFalse\u001b[39;49;00m\u001b[43m)\u001b[49m\u001b[43m,\u001b[49m\n\u001b[1;32m   1667\u001b[0m \u001b[43m    \u001b[49m\u001b[43mis_text\u001b[49m\u001b[38;5;241;43m=\u001b[39;49m\u001b[43mis_text\u001b[49m\u001b[43m,\u001b[49m\n\u001b[1;32m   1668\u001b[0m \u001b[43m    \u001b[49m\u001b[43merrors\u001b[49m\u001b[38;5;241;43m=\u001b[39;49m\u001b[38;5;28;43mself\u001b[39;49m\u001b[38;5;241;43m.\u001b[39;49m\u001b[43moptions\u001b[49m\u001b[38;5;241;43m.\u001b[39;49m\u001b[43mget\u001b[49m\u001b[43m(\u001b[49m\u001b[38;5;124;43m\"\u001b[39;49m\u001b[38;5;124;43mencoding_errors\u001b[39;49m\u001b[38;5;124;43m\"\u001b[39;49m\u001b[43m,\u001b[49m\u001b[43m \u001b[49m\u001b[38;5;124;43m\"\u001b[39;49m\u001b[38;5;124;43mstrict\u001b[39;49m\u001b[38;5;124;43m\"\u001b[39;49m\u001b[43m)\u001b[49m\u001b[43m,\u001b[49m\n\u001b[1;32m   1669\u001b[0m \u001b[43m    \u001b[49m\u001b[43mstorage_options\u001b[49m\u001b[38;5;241;43m=\u001b[39;49m\u001b[38;5;28;43mself\u001b[39;49m\u001b[38;5;241;43m.\u001b[39;49m\u001b[43moptions\u001b[49m\u001b[38;5;241;43m.\u001b[39;49m\u001b[43mget\u001b[49m\u001b[43m(\u001b[49m\u001b[38;5;124;43m\"\u001b[39;49m\u001b[38;5;124;43mstorage_options\u001b[39;49m\u001b[38;5;124;43m\"\u001b[39;49m\u001b[43m,\u001b[49m\u001b[43m \u001b[49m\u001b[38;5;28;43;01mNone\u001b[39;49;00m\u001b[43m)\u001b[49m\u001b[43m,\u001b[49m\n\u001b[1;32m   1670\u001b[0m \u001b[43m\u001b[49m\u001b[43m)\u001b[49m\n\u001b[1;32m   1671\u001b[0m \u001b[38;5;28;01massert\u001b[39;00m \u001b[38;5;28mself\u001b[39m\u001b[38;5;241m.\u001b[39mhandles \u001b[38;5;129;01mis\u001b[39;00m \u001b[38;5;129;01mnot\u001b[39;00m \u001b[38;5;28;01mNone\u001b[39;00m\n\u001b[1;32m   1672\u001b[0m f \u001b[38;5;241m=\u001b[39m \u001b[38;5;28mself\u001b[39m\u001b[38;5;241m.\u001b[39mhandles\u001b[38;5;241m.\u001b[39mhandle\n",
      "File \u001b[0;32m~/.local/lib/python3.8/site-packages/pandas/io/common.py:859\u001b[0m, in \u001b[0;36mget_handle\u001b[0;34m(path_or_buf, mode, encoding, compression, memory_map, is_text, errors, storage_options)\u001b[0m\n\u001b[1;32m    854\u001b[0m \u001b[38;5;28;01melif\u001b[39;00m \u001b[38;5;28misinstance\u001b[39m(handle, \u001b[38;5;28mstr\u001b[39m):\n\u001b[1;32m    855\u001b[0m     \u001b[38;5;66;03m# Check whether the filename is to be opened in binary mode.\u001b[39;00m\n\u001b[1;32m    856\u001b[0m     \u001b[38;5;66;03m# Binary mode does not support 'encoding' and 'newline'.\u001b[39;00m\n\u001b[1;32m    857\u001b[0m     \u001b[38;5;28;01mif\u001b[39;00m ioargs\u001b[38;5;241m.\u001b[39mencoding \u001b[38;5;129;01mand\u001b[39;00m \u001b[38;5;124m\"\u001b[39m\u001b[38;5;124mb\u001b[39m\u001b[38;5;124m\"\u001b[39m \u001b[38;5;129;01mnot\u001b[39;00m \u001b[38;5;129;01min\u001b[39;00m ioargs\u001b[38;5;241m.\u001b[39mmode:\n\u001b[1;32m    858\u001b[0m         \u001b[38;5;66;03m# Encoding\u001b[39;00m\n\u001b[0;32m--> 859\u001b[0m         handle \u001b[38;5;241m=\u001b[39m \u001b[38;5;28;43mopen\u001b[39;49m\u001b[43m(\u001b[49m\n\u001b[1;32m    860\u001b[0m \u001b[43m            \u001b[49m\u001b[43mhandle\u001b[49m\u001b[43m,\u001b[49m\n\u001b[1;32m    861\u001b[0m \u001b[43m            \u001b[49m\u001b[43mioargs\u001b[49m\u001b[38;5;241;43m.\u001b[39;49m\u001b[43mmode\u001b[49m\u001b[43m,\u001b[49m\n\u001b[1;32m    862\u001b[0m \u001b[43m            \u001b[49m\u001b[43mencoding\u001b[49m\u001b[38;5;241;43m=\u001b[39;49m\u001b[43mioargs\u001b[49m\u001b[38;5;241;43m.\u001b[39;49m\u001b[43mencoding\u001b[49m\u001b[43m,\u001b[49m\n\u001b[1;32m    863\u001b[0m \u001b[43m            \u001b[49m\u001b[43merrors\u001b[49m\u001b[38;5;241;43m=\u001b[39;49m\u001b[43merrors\u001b[49m\u001b[43m,\u001b[49m\n\u001b[1;32m    864\u001b[0m \u001b[43m            \u001b[49m\u001b[43mnewline\u001b[49m\u001b[38;5;241;43m=\u001b[39;49m\u001b[38;5;124;43m\"\u001b[39;49m\u001b[38;5;124;43m\"\u001b[39;49m\u001b[43m,\u001b[49m\n\u001b[1;32m    865\u001b[0m \u001b[43m        \u001b[49m\u001b[43m)\u001b[49m\n\u001b[1;32m    866\u001b[0m     \u001b[38;5;28;01melse\u001b[39;00m:\n\u001b[1;32m    867\u001b[0m         \u001b[38;5;66;03m# Binary mode\u001b[39;00m\n\u001b[1;32m    868\u001b[0m         handle \u001b[38;5;241m=\u001b[39m \u001b[38;5;28mopen\u001b[39m(handle, ioargs\u001b[38;5;241m.\u001b[39mmode)\n",
      "\u001b[0;31mFileNotFoundError\u001b[0m: [Errno 2] No such file or directory: 'data.csv'"
     ]
    }
   ],
   "source": [
    "import pandas as pd\n",
    "data = {\n",
    "    'Name': ['Alice', 'Bob', 'Charlie'],\n",
    "    'Age': [25, 30, 35],\n",
    "    'City': ['New York', 'Los Angeles', 'Chicago']\n",
    "}\n",
    "\n",
    "df = pd.DataFrame(data)\n",
    "print(df)\n",
    "pd.DataFrame?\n",
    "%timeit df['Age'].mean()\n",
    "df = pd.read_csv('data.csv')\n",
    "print(df.head())\n"
   ]
  },
  {
   "cell_type": "code",
   "execution_count": null,
   "id": "418d5f60-0dea-4d6e-8423-23a955caaff5",
   "metadata": {},
   "outputs": [],
   "source": []
  }
 ],
 "metadata": {
  "kernelspec": {
   "display_name": "Python 3 (ipykernel)",
   "language": "python",
   "name": "python3"
  },
  "language_info": {
   "codemirror_mode": {
    "name": "ipython",
    "version": 3
   },
   "file_extension": ".py",
   "mimetype": "text/x-python",
   "name": "python",
   "nbconvert_exporter": "python",
   "pygments_lexer": "ipython3",
   "version": "3.8.10"
  }
 },
 "nbformat": 4,
 "nbformat_minor": 5
}
